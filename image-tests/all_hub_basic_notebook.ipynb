{
 "cells": [
  {
   "cell_type": "code",
   "execution_count": 1,
   "id": "6caec712-8f5b-4904-b3b7-b77f1bf24a4e",
   "metadata": {},
   "outputs": [],
   "source": [
    "import numpy as np"
   ]
  },
  {
   "cell_type": "code",
   "execution_count": 2,
   "id": "e155a8af-f1c8-40e6-8fae-57653d825b91",
   "metadata": {},
   "outputs": [],
   "source": [
    "import numpy as np"
   ]
  },
  {
   "cell_type": "code",
   "execution_count": 3,
   "id": "42432a9f-89db-4a39-9fa3-c234f6e14716",
   "metadata": {},
   "outputs": [],
   "source": [
    "import matplotlib.pyplot as plt"
   ]
  },
  {
   "cell_type": "code",
   "execution_count": 4,
   "id": "f3d183f0-244d-4596-9d98-4637b08be004",
   "metadata": {},
   "outputs": [],
   "source": [
    "import os\n",
    "from nbconvert import HTMLExporter\n",
    "from nbconvert.preprocessors import ExecutePreprocessor\n",
    "from nbconvert import PDFExporter\n",
    "import subprocess"
   ]
  },
  {
   "cell_type": "code",
   "execution_count": 5,
   "id": "ab5e621c-bad6-411e-9922-2a003b037ad2",
   "metadata": {},
   "outputs": [],
   "source": [
    "notebooks_dir = \".\""
   ]
  },
  {
   "cell_type": "code",
   "execution_count": 6,
   "id": "6a954630-319c-42c6-8da4-4728f996db2e",
   "metadata": {},
   "outputs": [
    {
     "name": "stdout",
     "output_type": "stream",
     "text": [
      "Successfully converted notebook to PDF\n"
     ]
    }
   ],
   "source": [
    "\n",
    "notebook_path = os.path.join(notebooks_dir, \"all_hub_basic_notebook.ipynb\")\n",
    "\n",
    "# Set the output PDF file path\n",
    "pdf_path = os.path.splitext(notebook_path)[0] + \".pdf\"\n",
    "\n",
    "try:\n",
    "    # Use subprocess to call nbconvert to generate the PDF\n",
    "    result = subprocess.run(\n",
    "        [\"jupyter\", \"nbconvert\", \"--to\", \"webpdf\", notebook_path],\n",
    "        capture_output=True,\n",
    "        text=True,\n",
    "    )\n",
    "\n",
    "    # Check if the conversion was successful\n",
    "    if result.returncode != 0:\n",
    "        raise Exception(f\"PDF conversion failed for notebook. Error: {result.stderr}\")\n",
    "\n",
    "    # Verify that the PDF file exists\n",
    "    if not os.path.exists(pdf_path):\n",
    "        raise FileNotFoundError(f\"PDF conversion did not create the expected file for notebook\")\n",
    "\n",
    "    print(f\"Successfully converted notebook to PDF\")\n",
    "\n",
    "except Exception as e:\n",
    "    print(f\"Error: {str(e)}\")\n",
    "    "
   ]
  },
  {
   "cell_type": "code",
   "execution_count": null,
   "id": "56415bfb-4483-4de5-9327-e725cf2bc83b",
   "metadata": {},
   "outputs": [],
   "source": []
  }
 ],
 "metadata": {
  "kernelspec": {
   "display_name": "Python 3 (ipykernel)",
   "language": "python",
   "name": "python3"
  },
  "language_info": {
   "codemirror_mode": {
    "name": "ipython",
    "version": 3
   },
   "file_extension": ".py",
   "mimetype": "text/x-python",
   "name": "python",
   "nbconvert_exporter": "python",
   "pygments_lexer": "ipython3",
   "version": "3.11.11"
  }
 },
 "nbformat": 4,
 "nbformat_minor": 5
}
